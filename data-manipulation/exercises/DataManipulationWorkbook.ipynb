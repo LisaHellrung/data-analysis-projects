{
 "cells": [
  {
   "cell_type": "markdown",
   "id": "d2d52186",
   "metadata": {},
   "source": [
    "# Welcome to the Data Manipulation Exercises\n",
    "\n",
    "The workbook has been broken up into three sections.  Each section correlates to a reading assignment within the textbook."
   ]
  },
  {
   "cell_type": "code",
   "execution_count": 2,
   "id": "b781c5c2",
   "metadata": {},
   "outputs": [],
   "source": [
    "import pandas as pd\n",
    "import numpy as np\n",
    "\n",
    "data= pd.read_csv(\"titanic.csv\")"
   ]
  },
  {
   "cell_type": "markdown",
   "id": "2a701fe6",
   "metadata": {},
   "source": [
    "## Before You Get Started\n",
    "\n",
    "We are going to be using the Titanic Dataset. Make sure to run a head() before you start working with manipulation methods."
   ]
  },
  {
   "cell_type": "code",
   "execution_count": 17,
   "id": "bfa6771a",
   "metadata": {},
   "outputs": [],
   "source": [
    "# Run the head of your data set here:\n",
    "data.head()"
   ]
  },
  {
   "cell_type": "code",
   "execution_count": 5,
   "id": "90fb6f46",
   "metadata": {},
   "outputs": [
    {
     "data": {
      "text/plain": [
       "np.int64(107)"
      ]
     },
     "execution_count": 5,
     "metadata": {},
     "output_type": "execute_result"
    }
   ],
   "source": [
    "# check for duplicates\n",
    "data.duplicated().sum()"
   ]
  },
  {
   "cell_type": "code",
   "execution_count": 19,
   "id": "dddfd9e9",
   "metadata": {},
   "outputs": [],
   "source": [
    "# if there are, go ahead and drop them:\n",
    "data.drop_duplicates()"
   ]
  },
  {
   "cell_type": "markdown",
   "id": "0f70caa2",
   "metadata": {},
   "source": [
    "### Cleaning Note:\n",
    "\n",
    "While the columns are not the \"prettiest\", don't adjust any of them yet. We are going to update some values and add some values as we workthrough this notebook. Apologies for the extra visual \"noise\" on your screen. You will be given the option to tidy up the columns at the end of this notebook."
   ]
  },
  {
   "cell_type": "markdown",
   "id": "11789dff",
   "metadata": {},
   "source": [
    "## Running Tables Note:  \n",
    "If your tables don't appear to have accepted your changes, try the \"Run All\" option in the \"Cell\" section of the menu bar.  "
   ]
  },
  {
   "cell_type": "markdown",
   "id": "a4104f7d",
   "metadata": {},
   "source": [
    "<span style=\"background-color:dodgerblue; color:dodgerblue;\">- - - - - - - - - - - - - - - - - - - - - - - - - - - - - - - - - - - - - - - - - - - - - - - - - - - - - - - - - - - - - - - - - - - - - - - - - - - - - - - - - - - - - - - - -</span> "
   ]
  },
  {
   "cell_type": "markdown",
   "id": "0948036e",
   "metadata": {},
   "source": [
    "# A. Aggregation\n",
    "\n",
    "1. Work through the section Exercises.  \n",
    "    - There are 4 sections in part A:\n",
    "        - Groupby\n",
    "        - Aggregation Methods\n",
    "        - Groupby and Basic Math\n",
    "        - Groupby and Multiple Aggregations\n"
   ]
  },
  {
   "cell_type": "markdown",
   "id": "1116d353",
   "metadata": {},
   "source": [
    "#### Creating Variables.\n",
    "\n",
    "As we begin to manipulate our data, create new variables to store your work in.  This will keep your original data in tact.  Having the original dataset available will save you time with each manipulation.  You can also create variable names that inform you of the purpose of the manipulation.  "
   ]
  },
  {
   "cell_type": "markdown",
   "id": "0621dc21",
   "metadata": {},
   "source": [
    "### 1: Groupby <span style=\"color:dodgerblue;\"> - - - - - - - - - - - - - - - - - - - - - - - - - - - - - - - - - - - - - - - - - - - - - - - - - - - </span> "
   ]
  },
  {
   "cell_type": "markdown",
   "id": "c89219ea",
   "metadata": {},
   "source": [
    "#### Groupby \"embark_town\"\n",
    "\n",
    "1. Using the titanic data set, groupby \"embark_town\".\n",
    "1. Create a variable that will represent the grouping of data. \n",
    "1. Initialize it using the groupby() function and pass it the column.\n"
   ]
  },
  {
   "cell_type": "code",
   "execution_count": 6,
   "id": "34322f41",
   "metadata": {},
   "outputs": [
    {
     "data": {
      "text/html": [
       "<div>\n",
       "<style scoped>\n",
       "    .dataframe tbody tr th:only-of-type {\n",
       "        vertical-align: middle;\n",
       "    }\n",
       "\n",
       "    .dataframe tbody tr th {\n",
       "        vertical-align: top;\n",
       "    }\n",
       "\n",
       "    .dataframe thead th {\n",
       "        text-align: right;\n",
       "    }\n",
       "</style>\n",
       "<table border=\"1\" class=\"dataframe\">\n",
       "  <thead>\n",
       "    <tr style=\"text-align: right;\">\n",
       "      <th></th>\n",
       "      <th>survived</th>\n",
       "      <th>pclass</th>\n",
       "      <th>sex</th>\n",
       "      <th>age</th>\n",
       "      <th>sibsp</th>\n",
       "      <th>parch</th>\n",
       "      <th>fare</th>\n",
       "      <th>embarked</th>\n",
       "      <th>class</th>\n",
       "      <th>who</th>\n",
       "      <th>adult_male</th>\n",
       "      <th>deck</th>\n",
       "      <th>alive</th>\n",
       "      <th>alone</th>\n",
       "    </tr>\n",
       "    <tr>\n",
       "      <th>embark_town</th>\n",
       "      <th></th>\n",
       "      <th></th>\n",
       "      <th></th>\n",
       "      <th></th>\n",
       "      <th></th>\n",
       "      <th></th>\n",
       "      <th></th>\n",
       "      <th></th>\n",
       "      <th></th>\n",
       "      <th></th>\n",
       "      <th></th>\n",
       "      <th></th>\n",
       "      <th></th>\n",
       "      <th></th>\n",
       "    </tr>\n",
       "  </thead>\n",
       "  <tbody>\n",
       "    <tr>\n",
       "      <th>Cherbourg</th>\n",
       "      <td>1</td>\n",
       "      <td>1</td>\n",
       "      <td>female</td>\n",
       "      <td>38.0</td>\n",
       "      <td>1</td>\n",
       "      <td>0</td>\n",
       "      <td>71.2833</td>\n",
       "      <td>C</td>\n",
       "      <td>First</td>\n",
       "      <td>woman</td>\n",
       "      <td>False</td>\n",
       "      <td>C</td>\n",
       "      <td>yes</td>\n",
       "      <td>False</td>\n",
       "    </tr>\n",
       "    <tr>\n",
       "      <th>Queenstown</th>\n",
       "      <td>0</td>\n",
       "      <td>3</td>\n",
       "      <td>male</td>\n",
       "      <td>2.0</td>\n",
       "      <td>0</td>\n",
       "      <td>0</td>\n",
       "      <td>8.4583</td>\n",
       "      <td>Q</td>\n",
       "      <td>Third</td>\n",
       "      <td>man</td>\n",
       "      <td>True</td>\n",
       "      <td>C</td>\n",
       "      <td>no</td>\n",
       "      <td>True</td>\n",
       "    </tr>\n",
       "    <tr>\n",
       "      <th>Southampton</th>\n",
       "      <td>0</td>\n",
       "      <td>3</td>\n",
       "      <td>male</td>\n",
       "      <td>22.0</td>\n",
       "      <td>1</td>\n",
       "      <td>0</td>\n",
       "      <td>7.2500</td>\n",
       "      <td>S</td>\n",
       "      <td>Third</td>\n",
       "      <td>man</td>\n",
       "      <td>True</td>\n",
       "      <td>C</td>\n",
       "      <td>no</td>\n",
       "      <td>False</td>\n",
       "    </tr>\n",
       "  </tbody>\n",
       "</table>\n",
       "</div>"
      ],
      "text/plain": [
       "             survived  pclass     sex   age  sibsp  parch     fare embarked  \\\n",
       "embark_town                                                                   \n",
       "Cherbourg           1       1  female  38.0      1      0  71.2833        C   \n",
       "Queenstown          0       3    male   2.0      0      0   8.4583        Q   \n",
       "Southampton         0       3    male  22.0      1      0   7.2500        S   \n",
       "\n",
       "             class    who  adult_male deck alive  alone  \n",
       "embark_town                                              \n",
       "Cherbourg    First  woman       False    C   yes  False  \n",
       "Queenstown   Third    man        True    C    no   True  \n",
       "Southampton  Third    man        True    C    no  False  "
      ]
     },
     "execution_count": 6,
     "metadata": {},
     "output_type": "execute_result"
    }
   ],
   "source": [
    "# Code your groupby \"embark_town\" here:\n",
    "embark_town=data.groupby(\"embark_town\")\n"
   ]
  },
  {
   "cell_type": "code",
   "execution_count": 21,
   "id": "0465bb2f",
   "metadata": {},
   "outputs": [],
   "source": [
    "# To view the grouped data as a table, use the variable_name.first():\n",
    "embark_town.first()"
   ]
  },
  {
   "cell_type": "markdown",
   "id": "0ffc226e",
   "metadata": {},
   "source": [
    "#### Groupby \"survived\"\n",
    "\n",
    "Did you know that you can also chain on some of our exploratory methods to the groupby method?\n",
    "\n",
    "1. Create & initalize a new variable to hold a table that will groupby \"survived\" \n",
    "1. Use method chaining to tack on the describe method"
   ]
  },
  {
   "cell_type": "code",
   "execution_count": 22,
   "id": "3e9afd3a",
   "metadata": {},
   "outputs": [],
   "source": [
    "# Code your groupby \"survived\" table here:\n",
    "\n",
    "survived = data.groupby(\"survived\").describe()\n",
    "\n",
    "# run your table below:\n",
    "\n"
   ]
  },
  {
   "cell_type": "code",
   "execution_count": 23,
   "id": "e218b79b",
   "metadata": {},
   "outputs": [],
   "source": [
    "# run your table with describe\n",
    "survived.describe()"
   ]
  },
  {
   "cell_type": "code",
   "execution_count": 24,
   "id": "25c917d1",
   "metadata": {},
   "outputs": [],
   "source": [
    "# How is this table organized?  Why are there 40 columns now?\n",
    "# The table is now a wide format table. Each of the describe columns are displayed across the data frame by each of the original columns.\n"
   ]
  },
  {
   "cell_type": "markdown",
   "id": "42783c6d",
   "metadata": {},
   "source": [
    "### 2. Aggregation Methods <span style=\"color:dodgerblue;\"> - - - - - - - - - - - - - - - - - - - - - - - - - - - - - - - - - - - - - - - - - - - - - - - - - - - </span> "
   ]
  },
  {
   "cell_type": "markdown",
   "id": "3af74f16",
   "metadata": {},
   "source": [
    "Note: **agg()** and **aggregate()** are identical [source](https://pandas.pydata.org/docs/reference/api/pandas.DataFrame.aggregate.html)"
   ]
  },
  {
   "cell_type": "markdown",
   "id": "14147835",
   "metadata": {},
   "source": [
    "#### Method Chaining\n",
    "\n",
    "1. Create a variable to method chain **head()** and **agg()** togehter.\n",
    "1. Pass one of the following statistical values to **agg()**\n",
    "   - \"mean\", \"median\", \"mode\", \"min\", \"max\", \"std\", \"var\", \"first\", \"last\", \"sum\""
   ]
  },
  {
   "cell_type": "code",
   "execution_count": 25,
   "id": "312a7c2f",
   "metadata": {},
   "outputs": [],
   "source": [
    "# Code your method chain here:\n",
    "    \n",
    "mean_data=(data\n",
    "    .agg(average_age=('age','mean'))\n",
    "    .head())\n"
   ]
  },
  {
   "cell_type": "code",
   "execution_count": 7,
   "id": "089919c2",
   "metadata": {},
   "outputs": [
    {
     "data": {
      "text/plain": [
       "survived      3.0\n",
       "pclass       11.0\n",
       "age         156.0\n",
       "sibsp         3.0\n",
       "parch         0.0\n",
       "dtype: float64"
      ]
     },
     "execution_count": 7,
     "metadata": {},
     "output_type": "execute_result"
    }
   ],
   "source": [
    "# Create a variable to method chain head() with agg(\"sum\")\n",
    "\n",
    "# run your table:\n",
    "sum_data=data.head().agg(\"sum\",numeric_only=True)\n",
    "sum_data.head()"
   ]
  },
  {
   "cell_type": "code",
   "execution_count": 27,
   "id": "29e72d3b",
   "metadata": {},
   "outputs": [],
   "source": [
    "# Explain the sum table.  What is going on with the \"sex\", \"class\", and \"alive\" columns?\n",
    "\n",
    "#  Those are not numerical fields so they cannot be summed. All the values are returned in a single string."
   ]
  },
  {
   "cell_type": "markdown",
   "id": "8f370f65",
   "metadata": {},
   "source": [
    "#### Using a Dictionary <span style=\"color:darkorange;\"> - - - - - - - - - - - - - - - - - - - - - - - - - - - - - - - - - - - - - - - - - - - - - - - - - - - </span> \n",
    "##### A dictionary is a Python collection type.  \n",
    "\n",
    "Is a collection type that stores **key-value pairs**.  A key-value pair is an organization system that is made up of a single *key* that has one or more *values* paired with it.  \n",
    "Think of it like your contacts list.  The contacts list is the dictionary object.  \n",
    "Each contact is organized by a key, usually name.  And attached to each name is contact information, or the values.\n",
    "Some contacts might have email address, phone number, home or work address, etc. Other contacts may just be a name and phone number.  This is a very simple example, but understanding this organizational structure will be helpful as you learn to manipulate tables.  \n",
    "\n",
    "*Here is a dictionary example with 3 keys:*\n",
    ">**contacts_dictionary = {\"name1\": [\"email\", 555-5552, \"work info\"], \n",
    "      \"name2\": [\"email\", 555-5554],\n",
    "      \"name3\": 555-5555}**\n",
    "                     \n",
    "*Here is a dictionary example with a single key-value pair*\n",
    "**study_group_dictionary = {\"john\": [\"john@email.com\", 555-555-5555, \"works at LaunchCode headquarters\"]}**   \n",
    "\n",
    "It has a single key, and a list of values. The organization of this structure is called a \"Key-Value Pair\".\n",
    "Using the contact list example, the key would be the name of the person and the values would be their contact information.  The key is a single item (the person's name) and the values can be a single item (an email address) or mulitple items (email, phone number, address, work info, etc).\n",
    "Keys and values can be any data type, but must use correct data type syntax.  The keys do not have to be strings, but they do need to be a single value.  \n",
    "\n",
    "For more information, you can read more on dictionary objects [here](https://www.w3schools.com/python/python_dictionaries.asp).\n"
   ]
  },
  {
   "cell_type": "markdown",
   "id": "ac1059cd",
   "metadata": {},
   "source": [
    "#### Aggregation across multiple columns using dictionary functionality\n",
    "\n",
    "##### Syntax Example:\n",
    "\n",
    "**age_dictionary={\"age\":[\"sum\", \"max\"]}**\n",
    "\n",
    "We are creating a new dictionary (**age_dictionary**).  The key is **age** and the values we want are **\"sum\"\"** and **\"max\"**.  This dictionary object has now become a tempate for the aggregations we want to preform.  However, on it's own, it does nothing.  Once passed to the **agg()** method, it will pick out the specific location of data we want to examine.  Making a subset table.  \n",
    "\n",
    "The code is contained in the box below.  Run it and see what happens.\n",
    "\n",
    "\n",
    "For syntax examples, review [this webpage](https://www.geeksforgeeks.org/python-pandas-dataframe-aggregate/).\n",
    "#### <span style=\"color:coral;\"> - - - - - - - - - - - - - - - - - - - - - - - - - - - - - - - - - - - - - - - - - - - - - - - - - - - </span>"
   ]
  },
  {
   "cell_type": "code",
   "execution_count": null,
   "id": "89392dec",
   "metadata": {},
   "outputs": [],
   "source": [
    "# Predict the table output before you uncomment the code below.\n",
    "# My predictions is an age column with rows of sum and max\n",
    "\n",
    "# age_dictionary={\"age\":[\"sum\", \"max\"]}\n",
    "# dictionary_agg=data.agg(age_dictionary)\n",
    "# dictionary_agg"
   ]
  },
  {
   "cell_type": "markdown",
   "id": "c6e1283b",
   "metadata": {},
   "source": [
    "1. What if we want to look at more than one column at a time?  We pass more dictionaries to the agg function.\n",
    "1. Create a variable to hold at least 3 columns.  Use the syntax from the \"Syntax Example\" as a guide.\n",
    "    - Aggregate the following:  survived: \"sum\" & \"count\"; age: \"std\" & \"min\", and sibsp: \"count\" & \"sum\""
   ]
  },
  {
   "cell_type": "code",
   "execution_count": 29,
   "id": "2c7f1c6e",
   "metadata": {},
   "outputs": [],
   "source": [
    "# Code your dictionary here:\n",
    "age_dictionary={\"survived\":[\"sum\",\"count\"],\n",
    "                \"age\":[\"std\",\"min\"],\n",
    "                \"sibsp\":[\"count\",\"sum\"]\n",
    "                }\n",
    "dictionary_agg=data.agg(age_dictionary)\n",
    "\n"
   ]
  },
  {
   "cell_type": "markdown",
   "id": "297d7169",
   "metadata": {},
   "source": [
    "### 3. Groupby and Basic Math <span style=\"color:dodgerblue;\"> - - - - - - - - - - - - - - - - - - - - - - - - - - - - - - - - - - - - - - - - - - - - - - - - - - - </span> \n",
    "\n",
    "1. Groupby \"pclass\".  Make sure you use a variable to hold your grouped data."
   ]
  },
  {
   "cell_type": "code",
   "execution_count": 30,
   "id": "ac154abb",
   "metadata": {},
   "outputs": [],
   "source": [
    "# Code your groupby here:\n",
    "\n",
    "# <WARNING> For this section, you will need to filter out non-numeric data to run the aggregations\n",
    "## Uncomment the line below, and use this 'num_only_data' variable as needed for Section 3 and Section 4\n",
    "# num_only_data = data.select_dtypes(include='number')\n",
    "\n",
    "\n",
    "# Run your table using first() here instead of head():\n",
    "passenger_class=data.select_dtypes(include='number')\n",
    "pclass_df=passenger_class.groupby('pclass')\n",
    "\n",
    "\n",
    "# Run your table using first() here instead of head():\n",
    "pclass_df.first()\n"
   ]
  },
  {
   "cell_type": "markdown",
   "id": "b5b8a0be",
   "metadata": {},
   "source": [
    "### 4. Groupby and Multiple Aggregations <span style=\"color:dodgerblue;\"> - - - - - - - - - - - - - - - - - - - - - - - - - - - - - - - - - - - - - - - - - - - - - - - - - - - </span> "
   ]
  },
  {
   "cell_type": "markdown",
   "id": "83b74e40",
   "metadata": {},
   "source": [
    "#### Group with a List<span style=\"color:dodgerblue;\"> - - - - - - - - - - - - - - - - - - - - - - - - - - - - - - - - - - - - - - - - - - - - - - - - - - - </span>"
   ]
  },
  {
   "cell_type": "markdown",
   "id": "85d1655c",
   "metadata": {},
   "source": [
    "1. We want to do muliple aggregation functions to our newly grouped data set.  We created a variable to hold a list of functions we want to perform.  These functions are part of the agg method.  When we pass our list to the method, the method will iterate through each item and perform that function for the entire table."
   ]
  },
  {
   "cell_type": "code",
   "execution_count": 31,
   "id": "d79b7b1d",
   "metadata": {},
   "outputs": [],
   "source": [
    "# our list of functions\n",
    "agg_func_list = ['sum', 'mean', 'median', 'min', 'max', 'std', 'var', 'first', 'last', 'count']\n",
    "\n",
    "\n",
    "#Apply the agg method to our passenger_class variable (made in the Groupby Basic Math section).  \n",
    "# Pass our list to the function and run your table.\n",
    "pclass_df.agg(agg_func_list)\n",
    "\n",
    "\n",
    "  "
   ]
  },
  {
   "cell_type": "markdown",
   "id": "e734b183",
   "metadata": {},
   "source": [
    "#### Group with a Dictionary<span style=\"color:dodgerblue;\"> - - - - - - - - - - - - - - - - - - - - - - - - - - - - - - - - - - - - - - - - - - - - - - - - - - - </span>\n",
    "\n",
    "Using only a list provides us with the entire table.  What if we only want to look at age vs pclass?  \n",
    "\n",
    "we can create a dictionary to hold the age column for us.  The *key* would be the name of our column, and the values our list of functions to perform on that column.  The code would look like this:"
   ]
  },
  {
   "cell_type": "code",
   "execution_count": 32,
   "id": "460c85da",
   "metadata": {},
   "outputs": [],
   "source": [
    "agg_func_dict = {\n",
    "    'age':\n",
    "    ['sum', 'mean', 'median', 'min', 'max', 'std', 'var', 'first', 'last', 'count']\n",
    "}\n",
    "# We would run our table like this:\n",
    "# passenger_class.agg(agg_func_dict)  "
   ]
  },
  {
   "cell_type": "markdown",
   "id": "18b17b5f",
   "metadata": {},
   "source": [
    "Looking at the *age_func_dict* syntax, create a dictionary variable for the \"survived\" column and pass it to **passenger_class.agg()** in the box below."
   ]
  },
  {
   "cell_type": "code",
   "execution_count": 33,
   "id": "2b05656e",
   "metadata": {},
   "outputs": [],
   "source": [
    "# Code it here:\n",
    "agg_func_dict = {\n",
    "    'survived':\n",
    "    ['sum', 'mean', 'median', 'min', 'max', 'std', 'var', 'first', 'last', 'count']\n",
    "}\n",
    "\n",
    "pclass_df.agg(agg_func_dict)\n",
    "\n",
    "\n"
   ]
  },
  {
   "cell_type": "markdown",
   "id": "4a224518",
   "metadata": {},
   "source": [
    "<span style=\"background-color:dodgerblue; color:dodgerblue;\">- - - - - - - - - - - - - - - - - - - - - - - - - - - - - - - - - - - - - - - - - - - - - - - - - - - - - - - - - - - - - - - - - - - - - - - - - - - - - - - - - - - - - - - - -</span> "
   ]
  },
  {
   "cell_type": "markdown",
   "id": "7e825467",
   "metadata": {},
   "source": [
    "# B. Recoding and Creating New Values and Variables \n",
    "\n",
    "1. Work through the Part B, there are 3 sections"
   ]
  },
  {
   "cell_type": "markdown",
   "id": "646f6c33",
   "metadata": {},
   "source": [
    "### Create a New Column <span style=\"color:dodgerblue;\"> - - - - - - - - - - - - - - - - - - - - - - - - - - - - - - - - - - - - - - - - - - - - - - - - - - - </span> \n",
    "\n",
    "In the box below:\n",
    "1. Create a new column by manipulating the values of an existing column.  Specifically, create a new column, \"fare_2021\" that allows us to compare the cost of fare in pounds back in 1912 to 2021.  [This website](https://www.in2013dollars.com/uk/inflation/1912) can help you find the 2021 fare amount. "
   ]
  },
  {
   "cell_type": "code",
   "execution_count": 34,
   "id": "1d521795",
   "metadata": {},
   "outputs": [],
   "source": [
    "# Code your new \"fare_2021\" column here:\n",
    "data['fare_2021']=data['fare']*119.25\n",
    "\n",
    "\n",
    "# Run the head of your table to see your new column:\n",
    "data.head()"
   ]
  },
  {
   "cell_type": "markdown",
   "id": "a944618b",
   "metadata": {},
   "source": [
    "### Replacing Values <span style=\"color:dodgerblue;\"> - - - - - - - - - - - - - - - - - - - - - - - - - - - - - - - - - - - - - - - - - - - - - - - - - - - </span> \n",
    " \n",
    "Replace the string-based \"yes\",\"no\" values in the \"alive\" column using booleans, replacing \"yes\" values with True and \"no\" values with False."
   ]
  },
  {
   "cell_type": "code",
   "execution_count": 35,
   "id": "5aa29ad3",
   "metadata": {},
   "outputs": [],
   "source": [
    "# Code your updated values here:\n",
    "data['alive']=data['alive'].replace(to_replace={\"no\": False, \"yes\": True})\n",
    "\n",
    "data.head()\n",
    "\n"
   ]
  },
  {
   "cell_type": "markdown",
   "id": "961d7e60",
   "metadata": {},
   "source": [
    "We can also use functions to update values.\n",
    "\n",
    "1. Create a function that will convert the string-based \"alive\" values of \"yes\" or \"no\" to a boolean value of True or False. Apply it to your table and run your table here:"
   ]
  },
  {
   "cell_type": "code",
   "execution_count": 13,
   "id": "6b14b0ee",
   "metadata": {},
   "outputs": [
    {
     "data": {
      "text/html": [
       "<div>\n",
       "<style scoped>\n",
       "    .dataframe tbody tr th:only-of-type {\n",
       "        vertical-align: middle;\n",
       "    }\n",
       "\n",
       "    .dataframe tbody tr th {\n",
       "        vertical-align: top;\n",
       "    }\n",
       "\n",
       "    .dataframe thead th {\n",
       "        text-align: right;\n",
       "    }\n",
       "</style>\n",
       "<table border=\"1\" class=\"dataframe\">\n",
       "  <thead>\n",
       "    <tr style=\"text-align: right;\">\n",
       "      <th></th>\n",
       "      <th>survived</th>\n",
       "      <th>pclass</th>\n",
       "      <th>sex</th>\n",
       "      <th>age</th>\n",
       "      <th>sibsp</th>\n",
       "      <th>parch</th>\n",
       "      <th>fare</th>\n",
       "      <th>embarked</th>\n",
       "      <th>class</th>\n",
       "      <th>who</th>\n",
       "      <th>adult_male</th>\n",
       "      <th>deck</th>\n",
       "      <th>embark_town</th>\n",
       "      <th>alive</th>\n",
       "      <th>alone</th>\n",
       "    </tr>\n",
       "  </thead>\n",
       "  <tbody>\n",
       "    <tr>\n",
       "      <th>0</th>\n",
       "      <td>0</td>\n",
       "      <td>3</td>\n",
       "      <td>male</td>\n",
       "      <td>22.0</td>\n",
       "      <td>1</td>\n",
       "      <td>0</td>\n",
       "      <td>7.2500</td>\n",
       "      <td>S</td>\n",
       "      <td>Third</td>\n",
       "      <td>man</td>\n",
       "      <td>True</td>\n",
       "      <td>NaN</td>\n",
       "      <td>Southampton</td>\n",
       "      <td>False</td>\n",
       "      <td>False</td>\n",
       "    </tr>\n",
       "    <tr>\n",
       "      <th>1</th>\n",
       "      <td>1</td>\n",
       "      <td>1</td>\n",
       "      <td>female</td>\n",
       "      <td>38.0</td>\n",
       "      <td>1</td>\n",
       "      <td>0</td>\n",
       "      <td>71.2833</td>\n",
       "      <td>C</td>\n",
       "      <td>First</td>\n",
       "      <td>woman</td>\n",
       "      <td>False</td>\n",
       "      <td>C</td>\n",
       "      <td>Cherbourg</td>\n",
       "      <td>True</td>\n",
       "      <td>False</td>\n",
       "    </tr>\n",
       "    <tr>\n",
       "      <th>2</th>\n",
       "      <td>1</td>\n",
       "      <td>3</td>\n",
       "      <td>female</td>\n",
       "      <td>26.0</td>\n",
       "      <td>0</td>\n",
       "      <td>0</td>\n",
       "      <td>7.9250</td>\n",
       "      <td>S</td>\n",
       "      <td>Third</td>\n",
       "      <td>woman</td>\n",
       "      <td>False</td>\n",
       "      <td>NaN</td>\n",
       "      <td>Southampton</td>\n",
       "      <td>True</td>\n",
       "      <td>True</td>\n",
       "    </tr>\n",
       "    <tr>\n",
       "      <th>3</th>\n",
       "      <td>1</td>\n",
       "      <td>1</td>\n",
       "      <td>female</td>\n",
       "      <td>35.0</td>\n",
       "      <td>1</td>\n",
       "      <td>0</td>\n",
       "      <td>53.1000</td>\n",
       "      <td>S</td>\n",
       "      <td>First</td>\n",
       "      <td>woman</td>\n",
       "      <td>False</td>\n",
       "      <td>C</td>\n",
       "      <td>Southampton</td>\n",
       "      <td>True</td>\n",
       "      <td>False</td>\n",
       "    </tr>\n",
       "    <tr>\n",
       "      <th>4</th>\n",
       "      <td>0</td>\n",
       "      <td>3</td>\n",
       "      <td>male</td>\n",
       "      <td>35.0</td>\n",
       "      <td>0</td>\n",
       "      <td>0</td>\n",
       "      <td>8.0500</td>\n",
       "      <td>S</td>\n",
       "      <td>Third</td>\n",
       "      <td>man</td>\n",
       "      <td>True</td>\n",
       "      <td>NaN</td>\n",
       "      <td>Southampton</td>\n",
       "      <td>False</td>\n",
       "      <td>True</td>\n",
       "    </tr>\n",
       "  </tbody>\n",
       "</table>\n",
       "</div>"
      ],
      "text/plain": [
       "   survived  pclass     sex   age  sibsp  parch     fare embarked  class  \\\n",
       "0         0       3    male  22.0      1      0   7.2500        S  Third   \n",
       "1         1       1  female  38.0      1      0  71.2833        C  First   \n",
       "2         1       3  female  26.0      0      0   7.9250        S  Third   \n",
       "3         1       1  female  35.0      1      0  53.1000        S  First   \n",
       "4         0       3    male  35.0      0      0   8.0500        S  Third   \n",
       "\n",
       "     who  adult_male deck  embark_town  alive  alone  \n",
       "0    man        True  NaN  Southampton  False  False  \n",
       "1  woman       False    C    Cherbourg   True  False  \n",
       "2  woman       False  NaN  Southampton   True   True  \n",
       "3  woman       False    C  Southampton   True  False  \n",
       "4    man        True  NaN  Southampton  False   True  "
      ]
     },
     "execution_count": 13,
     "metadata": {},
     "output_type": "execute_result"
    }
   ],
   "source": [
    "# Code your function here:\n",
    "def alive_to_true_false(data):\n",
    "    \n",
    "\n",
    "    if data ==\"yes\" or data==True:\n",
    "        return True\n",
    "    else:\n",
    "        return False\n",
    "    \n",
    "\n",
    "data[\"alive\"]=data[\"alive\"].apply(alive_to_true_false)\n",
    "data.head()"
   ]
  },
  {
   "cell_type": "markdown",
   "id": "6a830345",
   "metadata": {},
   "source": [
    "### Using a function to create a new column <span style=\"color:dodgerblue;\"> - - - - - - - - - - - - - - - - - - - - - - - - - - - - - - - - - - - - - - - - - - - - - - - - - - - </span> \n",
    "\n",
    "Sometimes you might want to create a new column based on combining multiple columns together.\n",
    "\n",
    "1. create an \"age_group\" column that breaks years up as 0-19, 20-29, 30-39, etc until all given ages are covered.  Make sure you check to see where you can stop counting by 10s."
   ]
  },
  {
   "cell_type": "code",
   "execution_count": 14,
   "id": "ca1e0dee",
   "metadata": {},
   "outputs": [
    {
     "data": {
      "text/plain": [
       "np.float64(80.0)"
      ]
     },
     "execution_count": 14,
     "metadata": {},
     "output_type": "execute_result"
    }
   ],
   "source": [
    "# Write your max age check here:\n",
    "age_check = data[\"age\"].agg(\"max\")\n",
    "age_check"
   ]
  },
  {
   "cell_type": "code",
   "execution_count": 17,
   "id": "9061858c",
   "metadata": {},
   "outputs": [],
   "source": [
    "# Code the new \"age_group\" column function here:\n",
    "\n",
    "\n",
    "def age_group(age):\n",
    "  \n",
    "    if age < 20:\n",
    "        return '0-19 years'\n",
    "    elif 20 <= age < 30:\n",
    "        return '20-29 years'\n",
    "    elif 30 <= age <40:\n",
    "        return '30-39 years'\n",
    "    elif 40 <= age <50:\n",
    "        return '40-49 years'\n",
    "    elif 50 <= age  <60:\n",
    "        return '50-59 years'\n",
    "    elif 60 <= age <70:\n",
    "        return '60-69 years'\n",
    "    elif 70 <= age <80:\n",
    "        return '70-79 years'\n",
    "    elif 80 <= age <90:\n",
    "        return '80-89 years'\n",
    "    else:\n",
    "        return 'unk'\n",
    "\n",
    "# age_group_column(data)\n",
    "\n",
    "data['age'].fillna(1000)\n",
    "\n",
    "data[\"age_group\"]=data[\"age\"].apply(age_group)\n"
   ]
  },
  {
   "cell_type": "markdown",
   "id": "9a64ca65",
   "metadata": {},
   "source": [
    "<span style=\"background-color:dodgerblue; color:dodgerblue;\">- - - - - - - - - - - - - - - - - - - - - - - - - - - - - - - - - - - - - - - - - - - - - - - - - - - - - - - - - - - - - - - - - - - - - - - - - - - - - - - - - - - - - - - - -</span> "
   ]
  },
  {
   "cell_type": "markdown",
   "id": "5760d2ed",
   "metadata": {},
   "source": [
    "# C. Reshaping Tables\n",
    "\n",
    "1. Work through Part C, there are 4 sections"
   ]
  },
  {
   "cell_type": "markdown",
   "id": "9f6ceef3",
   "metadata": {},
   "source": [
    "### Sort_values <span style=\"color:dodgerblue;\"> - - - - - - - - - - - - - - - - - - - - - - - - - - - - - - - - - - - - - - - - - - - - - - - - - - - </span> "
   ]
  },
  {
   "cell_type": "markdown",
   "id": "268ddc8a",
   "metadata": {},
   "source": [
    "Use **sort_values()** to answer the following question:\n",
    "> What is the age of the person who paid the highest fare?\n",
    "\n",
    "Hint: We want to see the highest fare value first. To find this, should we set the sort order to ascending or descending?  Check the [documentation](https://pandas.pydata.org/docs/reference/api/pandas.DataFrame.sort_values.html?highlight=sort_values#pandas.DataFrame.sort_values) for the syntax."
   ]
  },
  {
   "cell_type": "code",
   "execution_count": 21,
   "id": "21b3a95e",
   "metadata": {},
   "outputs": [
    {
     "data": {
      "text/html": [
       "<div>\n",
       "<style scoped>\n",
       "    .dataframe tbody tr th:only-of-type {\n",
       "        vertical-align: middle;\n",
       "    }\n",
       "\n",
       "    .dataframe tbody tr th {\n",
       "        vertical-align: top;\n",
       "    }\n",
       "\n",
       "    .dataframe thead th {\n",
       "        text-align: right;\n",
       "    }\n",
       "</style>\n",
       "<table border=\"1\" class=\"dataframe\">\n",
       "  <thead>\n",
       "    <tr style=\"text-align: right;\">\n",
       "      <th></th>\n",
       "      <th>survived</th>\n",
       "      <th>pclass</th>\n",
       "      <th>sex</th>\n",
       "      <th>age</th>\n",
       "      <th>sibsp</th>\n",
       "      <th>parch</th>\n",
       "      <th>fare</th>\n",
       "      <th>embarked</th>\n",
       "      <th>class</th>\n",
       "      <th>who</th>\n",
       "      <th>adult_male</th>\n",
       "      <th>deck</th>\n",
       "      <th>embark_town</th>\n",
       "      <th>alive</th>\n",
       "      <th>alone</th>\n",
       "      <th>age_group</th>\n",
       "    </tr>\n",
       "  </thead>\n",
       "  <tbody>\n",
       "    <tr>\n",
       "      <th>679</th>\n",
       "      <td>1</td>\n",
       "      <td>1</td>\n",
       "      <td>male</td>\n",
       "      <td>36.0</td>\n",
       "      <td>0</td>\n",
       "      <td>1</td>\n",
       "      <td>512.3292</td>\n",
       "      <td>C</td>\n",
       "      <td>First</td>\n",
       "      <td>man</td>\n",
       "      <td>True</td>\n",
       "      <td>B</td>\n",
       "      <td>Cherbourg</td>\n",
       "      <td>True</td>\n",
       "      <td>False</td>\n",
       "      <td>30-39 years</td>\n",
       "    </tr>\n",
       "    <tr>\n",
       "      <th>258</th>\n",
       "      <td>1</td>\n",
       "      <td>1</td>\n",
       "      <td>female</td>\n",
       "      <td>35.0</td>\n",
       "      <td>0</td>\n",
       "      <td>0</td>\n",
       "      <td>512.3292</td>\n",
       "      <td>C</td>\n",
       "      <td>First</td>\n",
       "      <td>woman</td>\n",
       "      <td>False</td>\n",
       "      <td>NaN</td>\n",
       "      <td>Cherbourg</td>\n",
       "      <td>True</td>\n",
       "      <td>True</td>\n",
       "      <td>30-39 years</td>\n",
       "    </tr>\n",
       "    <tr>\n",
       "      <th>737</th>\n",
       "      <td>1</td>\n",
       "      <td>1</td>\n",
       "      <td>male</td>\n",
       "      <td>35.0</td>\n",
       "      <td>0</td>\n",
       "      <td>0</td>\n",
       "      <td>512.3292</td>\n",
       "      <td>C</td>\n",
       "      <td>First</td>\n",
       "      <td>man</td>\n",
       "      <td>True</td>\n",
       "      <td>B</td>\n",
       "      <td>Cherbourg</td>\n",
       "      <td>True</td>\n",
       "      <td>True</td>\n",
       "      <td>30-39 years</td>\n",
       "    </tr>\n",
       "    <tr>\n",
       "      <th>88</th>\n",
       "      <td>1</td>\n",
       "      <td>1</td>\n",
       "      <td>female</td>\n",
       "      <td>23.0</td>\n",
       "      <td>3</td>\n",
       "      <td>2</td>\n",
       "      <td>263.0000</td>\n",
       "      <td>S</td>\n",
       "      <td>First</td>\n",
       "      <td>woman</td>\n",
       "      <td>False</td>\n",
       "      <td>C</td>\n",
       "      <td>Southampton</td>\n",
       "      <td>True</td>\n",
       "      <td>False</td>\n",
       "      <td>20-29 years</td>\n",
       "    </tr>\n",
       "    <tr>\n",
       "      <th>438</th>\n",
       "      <td>0</td>\n",
       "      <td>1</td>\n",
       "      <td>male</td>\n",
       "      <td>64.0</td>\n",
       "      <td>1</td>\n",
       "      <td>4</td>\n",
       "      <td>263.0000</td>\n",
       "      <td>S</td>\n",
       "      <td>First</td>\n",
       "      <td>man</td>\n",
       "      <td>True</td>\n",
       "      <td>C</td>\n",
       "      <td>Southampton</td>\n",
       "      <td>False</td>\n",
       "      <td>False</td>\n",
       "      <td>60-69 years</td>\n",
       "    </tr>\n",
       "    <tr>\n",
       "      <th>...</th>\n",
       "      <td>...</td>\n",
       "      <td>...</td>\n",
       "      <td>...</td>\n",
       "      <td>...</td>\n",
       "      <td>...</td>\n",
       "      <td>...</td>\n",
       "      <td>...</td>\n",
       "      <td>...</td>\n",
       "      <td>...</td>\n",
       "      <td>...</td>\n",
       "      <td>...</td>\n",
       "      <td>...</td>\n",
       "      <td>...</td>\n",
       "      <td>...</td>\n",
       "      <td>...</td>\n",
       "      <td>...</td>\n",
       "    </tr>\n",
       "    <tr>\n",
       "      <th>806</th>\n",
       "      <td>0</td>\n",
       "      <td>1</td>\n",
       "      <td>male</td>\n",
       "      <td>39.0</td>\n",
       "      <td>0</td>\n",
       "      <td>0</td>\n",
       "      <td>0.0000</td>\n",
       "      <td>S</td>\n",
       "      <td>First</td>\n",
       "      <td>man</td>\n",
       "      <td>True</td>\n",
       "      <td>A</td>\n",
       "      <td>Southampton</td>\n",
       "      <td>False</td>\n",
       "      <td>True</td>\n",
       "      <td>30-39 years</td>\n",
       "    </tr>\n",
       "    <tr>\n",
       "      <th>815</th>\n",
       "      <td>0</td>\n",
       "      <td>1</td>\n",
       "      <td>male</td>\n",
       "      <td>NaN</td>\n",
       "      <td>0</td>\n",
       "      <td>0</td>\n",
       "      <td>0.0000</td>\n",
       "      <td>S</td>\n",
       "      <td>First</td>\n",
       "      <td>man</td>\n",
       "      <td>True</td>\n",
       "      <td>B</td>\n",
       "      <td>Southampton</td>\n",
       "      <td>False</td>\n",
       "      <td>True</td>\n",
       "      <td>unk</td>\n",
       "    </tr>\n",
       "    <tr>\n",
       "      <th>466</th>\n",
       "      <td>0</td>\n",
       "      <td>2</td>\n",
       "      <td>male</td>\n",
       "      <td>NaN</td>\n",
       "      <td>0</td>\n",
       "      <td>0</td>\n",
       "      <td>0.0000</td>\n",
       "      <td>S</td>\n",
       "      <td>Second</td>\n",
       "      <td>man</td>\n",
       "      <td>True</td>\n",
       "      <td>NaN</td>\n",
       "      <td>Southampton</td>\n",
       "      <td>False</td>\n",
       "      <td>True</td>\n",
       "      <td>unk</td>\n",
       "    </tr>\n",
       "    <tr>\n",
       "      <th>481</th>\n",
       "      <td>0</td>\n",
       "      <td>2</td>\n",
       "      <td>male</td>\n",
       "      <td>NaN</td>\n",
       "      <td>0</td>\n",
       "      <td>0</td>\n",
       "      <td>0.0000</td>\n",
       "      <td>S</td>\n",
       "      <td>Second</td>\n",
       "      <td>man</td>\n",
       "      <td>True</td>\n",
       "      <td>NaN</td>\n",
       "      <td>Southampton</td>\n",
       "      <td>False</td>\n",
       "      <td>True</td>\n",
       "      <td>unk</td>\n",
       "    </tr>\n",
       "    <tr>\n",
       "      <th>822</th>\n",
       "      <td>0</td>\n",
       "      <td>1</td>\n",
       "      <td>male</td>\n",
       "      <td>38.0</td>\n",
       "      <td>0</td>\n",
       "      <td>0</td>\n",
       "      <td>0.0000</td>\n",
       "      <td>S</td>\n",
       "      <td>First</td>\n",
       "      <td>man</td>\n",
       "      <td>True</td>\n",
       "      <td>NaN</td>\n",
       "      <td>Southampton</td>\n",
       "      <td>False</td>\n",
       "      <td>True</td>\n",
       "      <td>30-39 years</td>\n",
       "    </tr>\n",
       "  </tbody>\n",
       "</table>\n",
       "<p>891 rows × 16 columns</p>\n",
       "</div>"
      ],
      "text/plain": [
       "     survived  pclass     sex   age  sibsp  parch      fare embarked   class  \\\n",
       "679         1       1    male  36.0      0      1  512.3292        C   First   \n",
       "258         1       1  female  35.0      0      0  512.3292        C   First   \n",
       "737         1       1    male  35.0      0      0  512.3292        C   First   \n",
       "88          1       1  female  23.0      3      2  263.0000        S   First   \n",
       "438         0       1    male  64.0      1      4  263.0000        S   First   \n",
       "..        ...     ...     ...   ...    ...    ...       ...      ...     ...   \n",
       "806         0       1    male  39.0      0      0    0.0000        S   First   \n",
       "815         0       1    male   NaN      0      0    0.0000        S   First   \n",
       "466         0       2    male   NaN      0      0    0.0000        S  Second   \n",
       "481         0       2    male   NaN      0      0    0.0000        S  Second   \n",
       "822         0       1    male  38.0      0      0    0.0000        S   First   \n",
       "\n",
       "       who  adult_male deck  embark_town  alive  alone    age_group  \n",
       "679    man        True    B    Cherbourg   True  False  30-39 years  \n",
       "258  woman       False  NaN    Cherbourg   True   True  30-39 years  \n",
       "737    man        True    B    Cherbourg   True   True  30-39 years  \n",
       "88   woman       False    C  Southampton   True  False  20-29 years  \n",
       "438    man        True    C  Southampton  False  False  60-69 years  \n",
       "..     ...         ...  ...          ...    ...    ...          ...  \n",
       "806    man        True    A  Southampton  False   True  30-39 years  \n",
       "815    man        True    B  Southampton  False   True          unk  \n",
       "466    man        True  NaN  Southampton  False   True          unk  \n",
       "481    man        True  NaN  Southampton  False   True          unk  \n",
       "822    man        True  NaN  Southampton  False   True  30-39 years  \n",
       "\n",
       "[891 rows x 16 columns]"
      ]
     },
     "metadata": {},
     "output_type": "display_data"
    }
   ],
   "source": [
    "# Code your sort_values here:\n",
    "sorted_df=data.sort_values(by='fare',ascending=False)\n",
    "# sort_data=data.sort_values(by=[\"who\",\"age\"],ascending=False)\n",
    "\n",
    "# Run your table here:\n",
    "sorted_df.head\n",
    "display(sorted_df)"
   ]
  },
  {
   "cell_type": "markdown",
   "id": "0a5d0d2c",
   "metadata": {},
   "source": [
    "### pivot_table <span style=\"color:dodgerblue;\"> - - - - - - - - - - - - - - - - - - - - - - - - - - - - - - - - - - - - - - - - - - - - - - - - - - - </span> \n",
    "1. pivot the table of the summed data where the values are \"fare\", index is \"who\" and \"age_group\", and the columns are \"survived\"\n",
    "\n",
    "Hint: set the aggfunc parameter to np.sum\n",
    "\n",
    "\n"
   ]
  },
  {
   "cell_type": "code",
   "execution_count": 23,
   "id": "74b19d7f",
   "metadata": {},
   "outputs": [
    {
     "name": "stdout",
     "output_type": "stream",
     "text": [
      "survived                   0          1\n",
      "who   age_group                        \n",
      "child 0-19 years   1109.5459  1611.6751\n",
      "man   0-19 years    978.4249   145.5333\n",
      "      20-29 years  2435.2329   646.9542\n",
      "      30-39 years  1506.2789  1720.9459\n",
      "      40-49 years  1110.6374   466.6793\n",
      "      50-59 years   853.3042   226.2000\n",
      "      60-69 years   586.4875    89.7000\n",
      "      70-79 years   181.1834        NaN\n",
      "      80-89 years        NaN    30.0000\n",
      "      unk          1997.7913   376.7124\n",
      "woman 0-19 years    126.1375  1243.0209\n",
      "      20-29 years   404.7500  2514.4291\n",
      "      30-39 years   164.9042  3350.8791\n",
      "      40-49 years   241.2542  1563.6335\n",
      "      50-59 years    39.2125  1182.0833\n",
      "      60-69 years        NaN   242.7958\n",
      "      unk           407.5751  1139.9875\n"
     ]
    }
   ],
   "source": [
    "# Code your pivot_table here:\n",
    "\n",
    "pivot_table = data.pivot_table(values='fare', aggfunc='sum', index=['who','age_group'],columns='survived')\n",
    "\n",
    "\n",
    "# Run your table here:\n",
    "print(pivot_table)"
   ]
  },
  {
   "cell_type": "markdown",
   "id": "3863d61c",
   "metadata": {},
   "source": [
    "### Wide to Long <span style=\"color:dodgerblue;\"> - - - - - - - - - - - - - - - - - - - - - - - - - - - - - - - - - - - - - - - - - - - - - - - - - - - </span> \n",
    "\n",
    "1. Create a table where the columns are \"who\" and the values are \"pclass\"\n",
    "1. Answer the question:  How does this table differ from the pivot_table above?  Specifically, how is \"who\" different?"
   ]
  },
  {
   "cell_type": "code",
   "execution_count": 27,
   "id": "c6f05a93",
   "metadata": {},
   "outputs": [
    {
     "data": {
      "text/html": [
       "<div>\n",
       "<style scoped>\n",
       "    .dataframe tbody tr th:only-of-type {\n",
       "        vertical-align: middle;\n",
       "    }\n",
       "\n",
       "    .dataframe tbody tr th {\n",
       "        vertical-align: top;\n",
       "    }\n",
       "\n",
       "    .dataframe thead th {\n",
       "        text-align: right;\n",
       "    }\n",
       "</style>\n",
       "<table border=\"1\" class=\"dataframe\">\n",
       "  <thead>\n",
       "    <tr style=\"text-align: right;\">\n",
       "      <th>who</th>\n",
       "      <th>child</th>\n",
       "      <th>man</th>\n",
       "      <th>woman</th>\n",
       "    </tr>\n",
       "  </thead>\n",
       "  <tbody>\n",
       "    <tr>\n",
       "      <th>0</th>\n",
       "      <td>NaN</td>\n",
       "      <td>20-29 years</td>\n",
       "      <td>NaN</td>\n",
       "    </tr>\n",
       "    <tr>\n",
       "      <th>1</th>\n",
       "      <td>NaN</td>\n",
       "      <td>NaN</td>\n",
       "      <td>30-39 years</td>\n",
       "    </tr>\n",
       "    <tr>\n",
       "      <th>2</th>\n",
       "      <td>NaN</td>\n",
       "      <td>NaN</td>\n",
       "      <td>20-29 years</td>\n",
       "    </tr>\n",
       "    <tr>\n",
       "      <th>3</th>\n",
       "      <td>NaN</td>\n",
       "      <td>NaN</td>\n",
       "      <td>30-39 years</td>\n",
       "    </tr>\n",
       "    <tr>\n",
       "      <th>4</th>\n",
       "      <td>NaN</td>\n",
       "      <td>30-39 years</td>\n",
       "      <td>NaN</td>\n",
       "    </tr>\n",
       "  </tbody>\n",
       "</table>\n",
       "</div>"
      ],
      "text/plain": [
       "who child          man        woman\n",
       "0     NaN  20-29 years          NaN\n",
       "1     NaN          NaN  30-39 years\n",
       "2     NaN          NaN  20-29 years\n",
       "3     NaN          NaN  30-39 years\n",
       "4     NaN  30-39 years          NaN"
      ]
     },
     "execution_count": 27,
     "metadata": {},
     "output_type": "execute_result"
    }
   ],
   "source": [
    "# Code your table here:\n",
    "wide_long=data.pivot(columns=\"who\",values=\"pclass\")\n",
    "\n",
    "# Run your table here:\n",
    "wide_long.head()\n",
    "\n",
    "# Answer the question here:\n",
    "# who is an index vs who as column\n"
   ]
  },
  {
   "cell_type": "markdown",
   "id": "854e4b22",
   "metadata": {},
   "source": [
    "### Melt <span style=\"color:dodgerblue;\"> - - - - - - - - - - - - - - - - - - - - - - - - - - - - - - - - - - - - - - - - - - - - - - - - - - - </span> "
   ]
  },
  {
   "cell_type": "markdown",
   "id": "40521afb",
   "metadata": {},
   "source": [
    "1.  What does the **melt** function do to the data? "
   ]
  },
  {
   "cell_type": "code",
   "execution_count": 42,
   "id": "361a2ac1",
   "metadata": {},
   "outputs": [],
   "source": [
    "# What does melt do?\n",
    "# Converts table from wide to long"
   ]
  },
  {
   "cell_type": "markdown",
   "id": "0a9f586c",
   "metadata": {},
   "source": [
    "2.  With a new variable, apply a default melt to your data."
   ]
  },
  {
   "cell_type": "code",
   "execution_count": 28,
   "id": "056ee34b",
   "metadata": {},
   "outputs": [
    {
     "data": {
      "text/plain": [
       "(14256, 2)"
      ]
     },
     "execution_count": 28,
     "metadata": {},
     "output_type": "execute_result"
    }
   ],
   "source": [
    "# Create your default melt table here with the following syntax:  new_name = pd.melt(data_set)\n",
    "\n",
    "# Run your table here:\n",
    "melt_df=pd.melt(data)\n",
    "\n",
    "# Check the shape of your new table.\n",
    "melt_df.shape"
   ]
  },
  {
   "cell_type": "markdown",
   "id": "2b203e5c",
   "metadata": {},
   "source": [
    "3. Create a melt table where the index variables are \"embarked\", and the values are \"fare\" and \"deck\""
   ]
  },
  {
   "cell_type": "code",
   "execution_count": 44,
   "id": "49dddb6f",
   "metadata": {},
   "outputs": [],
   "source": [
    "# Create your melt table here:\n",
    "melt_data=pd.melt(data, id_vars=[\"embarked\"],value_vars=[\"fare\",\"deck\"])\n",
    "# Run your table here:\n",
    "\n",
    "# Check the shape\n",
    "melt_data.shape\n",
    "melt_data.head()"
   ]
  },
  {
   "cell_type": "markdown",
   "id": "ed3c7217",
   "metadata": {},
   "source": [
    "# Optonal Challenges:\n",
    "\n",
    "1. Clean and Explore the table.  \n",
    "    1. How would you handle any missing data?\n",
    "    1. Would you keep all of the columns?\n",
    "    1. Would you want to manipulate any data?"
   ]
  },
  {
   "cell_type": "code",
   "execution_count": null,
   "id": "6b2b3f82",
   "metadata": {},
   "outputs": [],
   "source": []
  }
 ],
 "metadata": {
  "kernelspec": {
   "display_name": "Python 3 (ipykernel)",
   "language": "python",
   "name": "python3"
  },
  "language_info": {
   "codemirror_mode": {
    "name": "ipython",
    "version": 3
   },
   "file_extension": ".py",
   "mimetype": "text/x-python",
   "name": "python",
   "nbconvert_exporter": "python",
   "pygments_lexer": "ipython3",
   "version": "3.12.6"
  }
 },
 "nbformat": 4,
 "nbformat_minor": 5
}
